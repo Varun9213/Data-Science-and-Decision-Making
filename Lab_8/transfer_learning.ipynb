{
  "nbformat": 4,
  "nbformat_minor": 0,
  "metadata": {
    "colab": {
      "name": "transfer_learning.ipynb",
      "provenance": [],
      "authorship_tag": "ABX9TyOOH24GU0pWJp32T0PTF9F6",
      "include_colab_link": true
    },
    "kernelspec": {
      "name": "python3",
      "display_name": "Python 3"
    },
    "language_info": {
      "name": "python"
    },
    "accelerator": "GPU"
  },
  "cells": [
    {
      "cell_type": "markdown",
      "metadata": {
        "id": "view-in-github",
        "colab_type": "text"
      },
      "source": [
        "<a href=\"https://colab.research.google.com/github/Varun9213/Data-Science-and-Decision-Making/blob/main/transfer_learning.ipynb\" target=\"_parent\"><img src=\"https://colab.research.google.com/assets/colab-badge.svg\" alt=\"Open In Colab\"/></a>"
      ]
    },
    {
      "cell_type": "code",
      "metadata": {
        "colab": {
          "base_uri": "https://localhost:8080/"
        },
        "id": "d8gWlQJosfKY",
        "outputId": "61d06e9a-e5bd-4bf9-d990-47b0950c9fe5"
      },
      "source": [
        "!git clone https://github.com/sagihaider/CE888_2021.git"
      ],
      "execution_count": 1,
      "outputs": [
        {
          "output_type": "stream",
          "text": [
            "Cloning into 'CE888_2021'...\n",
            "remote: Enumerating objects: 381, done.\u001b[K\n",
            "remote: Counting objects: 100% (191/191), done.\u001b[K\n",
            "remote: Compressing objects: 100% (172/172), done.\u001b[K\n",
            "remote: Total 381 (delta 120), reused 30 (delta 17), pack-reused 190\u001b[K\n",
            "Receiving objects: 100% (381/381), 20.57 MiB | 25.28 MiB/s, done.\n",
            "Resolving deltas: 100% (190/190), done.\n"
          ],
          "name": "stdout"
        }
      ]
    },
    {
      "cell_type": "code",
      "metadata": {
        "id": "6paR8zoHsuVa"
      },
      "source": [
        "from zipfile import ZipFile\n",
        "import tensorflow as tf\n",
        "import keras\n",
        "import os, cv2\n",
        "import pandas as pd\n",
        "import numpy as np\n",
        "import matplotlib.pyplot as plt"
      ],
      "execution_count": 2,
      "outputs": []
    },
    {
      "cell_type": "code",
      "metadata": {
        "id": "dSKB4WhhtI02"
      },
      "source": [
        "with ZipFile(\"/content/CE888_2021/Lab_8/data.zip\", 'r') as file:\n",
        "  file.extractall()"
      ],
      "execution_count": 3,
      "outputs": []
    },
    {
      "cell_type": "code",
      "metadata": {
        "id": "kQrX9jo-tSN1"
      },
      "source": [
        "df = pd.DataFrame(columns=[\"filename\", \"class\"])\n",
        "root = \"/content/data\"\n",
        "for cls in os.listdir(root):\n",
        "  p = root+\"/\"+cls\n",
        "  for fn in os.listdir(p):\n",
        "    df = df.append({\"filename\": cls+\"/\"+fn, \"class\": cls}, ignore_index=True)"
      ],
      "execution_count": 4,
      "outputs": []
    },
    {
      "cell_type": "code",
      "metadata": {
        "colab": {
          "base_uri": "https://localhost:8080/",
          "height": 195
        },
        "id": "ihB6GI4Zw74n",
        "outputId": "5c6d1acc-eb86-43eb-94e9-944a221b403b"
      },
      "source": [
        "df.head()"
      ],
      "execution_count": 5,
      "outputs": [
        {
          "output_type": "execute_result",
          "data": {
            "text/html": [
              "<div>\n",
              "<style scoped>\n",
              "    .dataframe tbody tr th:only-of-type {\n",
              "        vertical-align: middle;\n",
              "    }\n",
              "\n",
              "    .dataframe tbody tr th {\n",
              "        vertical-align: top;\n",
              "    }\n",
              "\n",
              "    .dataframe thead th {\n",
              "        text-align: right;\n",
              "    }\n",
              "</style>\n",
              "<table border=\"1\" class=\"dataframe\">\n",
              "  <thead>\n",
              "    <tr style=\"text-align: right;\">\n",
              "      <th></th>\n",
              "      <th>filename</th>\n",
              "      <th>class</th>\n",
              "    </tr>\n",
              "  </thead>\n",
              "  <tbody>\n",
              "    <tr>\n",
              "      <th>0</th>\n",
              "      <td>cats/cat.139.jpg</td>\n",
              "      <td>cats</td>\n",
              "    </tr>\n",
              "    <tr>\n",
              "      <th>1</th>\n",
              "      <td>cats/cat.187.jpg</td>\n",
              "      <td>cats</td>\n",
              "    </tr>\n",
              "    <tr>\n",
              "      <th>2</th>\n",
              "      <td>cats/cat.134.jpg</td>\n",
              "      <td>cats</td>\n",
              "    </tr>\n",
              "    <tr>\n",
              "      <th>3</th>\n",
              "      <td>cats/cat.194.jpg</td>\n",
              "      <td>cats</td>\n",
              "    </tr>\n",
              "    <tr>\n",
              "      <th>4</th>\n",
              "      <td>cats/cat.87.jpg</td>\n",
              "      <td>cats</td>\n",
              "    </tr>\n",
              "  </tbody>\n",
              "</table>\n",
              "</div>"
            ],
            "text/plain": [
              "           filename class\n",
              "0  cats/cat.139.jpg  cats\n",
              "1  cats/cat.187.jpg  cats\n",
              "2  cats/cat.134.jpg  cats\n",
              "3  cats/cat.194.jpg  cats\n",
              "4   cats/cat.87.jpg  cats"
            ]
          },
          "metadata": {
            "tags": []
          },
          "execution_count": 5
        }
      ]
    },
    {
      "cell_type": "code",
      "metadata": {
        "id": "U--QaA8U3-y7"
      },
      "source": [
        "from sklearn.model_selection import train_test_split\n",
        "\n",
        "train, valid = train_test_split(df, test_size=0.2)"
      ],
      "execution_count": 26,
      "outputs": []
    },
    {
      "cell_type": "code",
      "metadata": {
        "colab": {
          "base_uri": "https://localhost:8080/"
        },
        "id": "sCHsiB3fzprC",
        "outputId": "703a7c2b-9ad1-4e1a-9103-35da04d724c9"
      },
      "source": [
        "datagen=keras.preprocessing.image.ImageDataGenerator(rescale=1./255, horizontal_flip=True, \n",
        "                                                     rotation_range=90,\n",
        "                                                     width_shift_range=0.2,\n",
        "                                                     shear_range = 0.1)\n",
        "train_ds = datagen.flow_from_dataframe(dataframe=train, directory=root, target_size=(224,224))\n",
        "valid_ds = datagen.flow_from_dataframe(dataframe=valid, directory=root, target_size=(224,224))"
      ],
      "execution_count": 53,
      "outputs": [
        {
          "output_type": "stream",
          "text": [
            "Found 646 validated image filenames belonging to 4 classes.\n",
            "Found 162 validated image filenames belonging to 4 classes.\n"
          ],
          "name": "stdout"
        }
      ]
    },
    {
      "cell_type": "code",
      "metadata": {
        "colab": {
          "base_uri": "https://localhost:8080/",
          "height": 286
        },
        "id": "uKTczHlX04Xa",
        "outputId": "f1817797-e0c6-4905-89ce-17620a256f39"
      },
      "source": [
        "img, lbl = train_ds.next()\n",
        "plt.imshow(img[2])"
      ],
      "execution_count": 54,
      "outputs": [
        {
          "output_type": "execute_result",
          "data": {
            "text/plain": [
              "<matplotlib.image.AxesImage at 0x7f25e989f390>"
            ]
          },
          "metadata": {
            "tags": []
          },
          "execution_count": 54
        },
        {
          "output_type": "display_data",
          "data": {
            "image/png": "[encoded data removed]",
            "text/plain": [
              "<Figure size 432x288 with 1 Axes>"
            ]
          },
          "metadata": {
            "tags": [],
            "needs_background": "light"
          }
        }
      ]
    },
    {
      "cell_type": "markdown",
      "metadata": {
        "id": "T3dD4knBA7dF"
      },
      "source": [
        "**Task - 1**"
      ]
    },
    {
      "cell_type": "code",
      "metadata": {
        "id": "wFWsQfq02xzV"
      },
      "source": [
        "img_input = tf.keras.Input(shape=(224, 224, 3))\n",
        "base = tf.keras.applications.ResNet50(include_top=True, input_tensor=img_input, weights='imagenet')\n",
        "base.trainable = False\n",
        "x = base.output\n",
        "preds = tf.keras.layers.Dense(4, activation=\"softmax\")(x)\n",
        "\n",
        "model = tf.keras.Model(inputs = base.input, outputs=preds)\n",
        "\n",
        "model.compile(keras.optimizers.Adam(lr=0.001),loss=\"categorical_crossentropy\", metrics=[\"accuracy\"])"
      ],
      "execution_count": 56,
      "outputs": []
    },
    {
      "cell_type": "code",
      "metadata": {
        "colab": {
          "base_uri": "https://localhost:8080/"
        },
        "id": "y0pyziv-4djv",
        "outputId": "34f18f08-3874-443d-bde8-01061c4c8479"
      },
      "source": [
        "STEP_SIZE_TRAIN=train_ds.n//train_ds.batch_size\n",
        "STEP_SIZE_VALID=valid_ds.n//valid_ds.batch_size\n",
        "model.fit_generator(generator=train_ds,\n",
        "                    steps_per_epoch=STEP_SIZE_TRAIN,\n",
        "                    validation_data=valid_ds,\n",
        "                    validation_steps=STEP_SIZE_VALID,\n",
        "                    epochs=10)"
      ],
      "execution_count": 57,
      "outputs": [
        {
          "output_type": "stream",
          "text": [
            "/usr/local/lib/python3.7/dist-packages/tensorflow/python/keras/engine/training.py:1844: UserWarning: `Model.fit_generator` is deprecated and will be removed in a future version. Please use `Model.fit`, which supports generators.\n",
            "  warnings.warn('`Model.fit_generator` is deprecated and '\n"
          ],
          "name": "stderr"
        },
        {
          "output_type": "stream",
          "text": [
            "Epoch 1/10\n",
            "20/20 [==============================] - 18s 730ms/step - loss: 1.3866 - accuracy: 0.2800 - val_loss: 1.3860 - val_accuracy: 0.2625\n",
            "Epoch 2/10\n",
            "20/20 [==============================] - 13s 652ms/step - loss: 1.3865 - accuracy: 0.2391 - val_loss: 1.3862 - val_accuracy: 0.2688\n",
            "Epoch 3/10\n",
            "20/20 [==============================] - 13s 652ms/step - loss: 1.3862 - accuracy: 0.2466 - val_loss: 1.3867 - val_accuracy: 0.2937\n",
            "Epoch 4/10\n",
            "20/20 [==============================] - 13s 650ms/step - loss: 1.3863 - accuracy: 0.2726 - val_loss: 1.3868 - val_accuracy: 0.2250\n",
            "Epoch 5/10\n",
            "20/20 [==============================] - 13s 651ms/step - loss: 1.3856 - accuracy: 0.2762 - val_loss: 1.3868 - val_accuracy: 0.2375\n",
            "Epoch 6/10\n",
            "20/20 [==============================] - 13s 641ms/step - loss: 1.3860 - accuracy: 0.2772 - val_loss: 1.3865 - val_accuracy: 0.2562\n",
            "Epoch 7/10\n",
            "20/20 [==============================] - 13s 652ms/step - loss: 1.3858 - accuracy: 0.2397 - val_loss: 1.3868 - val_accuracy: 0.2313\n",
            "Epoch 8/10\n",
            "20/20 [==============================] - 13s 651ms/step - loss: 1.3855 - accuracy: 0.2508 - val_loss: 1.3867 - val_accuracy: 0.2313\n",
            "Epoch 9/10\n",
            "20/20 [==============================] - 13s 646ms/step - loss: 1.3854 - accuracy: 0.2642 - val_loss: 1.3864 - val_accuracy: 0.2313\n",
            "Epoch 10/10\n",
            "20/20 [==============================] - 13s 647ms/step - loss: 1.3847 - accuracy: 0.2736 - val_loss: 1.3869 - val_accuracy: 0.3063\n"
          ],
          "name": "stdout"
        },
        {
          "output_type": "execute_result",
          "data": {
            "text/plain": [
              "<tensorflow.python.keras.callbacks.History at 0x7f25ec3e7d10>"
            ]
          },
          "metadata": {
            "tags": []
          },
          "execution_count": 57
        }
      ]
    },
    {
      "cell_type": "markdown",
      "metadata": {
        "id": "zVc6_-K8A-hS"
      },
      "source": [
        "**Task - 2**"
      ]
    },
    {
      "cell_type": "code",
      "metadata": {
        "id": "X9VSFVGS4kJ5"
      },
      "source": [
        "base = tf.keras.applications.ResNet50(include_top=False, input_shape=(224,224,3), weights='imagenet')\n",
        "x = base.output\n",
        "x = tf.keras.layers.GlobalAveragePooling2D()(x)\n",
        "x = tf.keras.layers.BatchNormalization()(x)\n",
        "x = tf.keras.layers.Dropout(0.5)(x)\n",
        "x = tf.keras.layers.Dense(512, activation=\"elu\")(x)\n",
        "preds = tf.keras.layers.Dense(4, activation=\"softmax\")(x)\n",
        "\n",
        "model = tf.keras.Model(inputs = base.input, outputs=preds)\n",
        "base.trainable = False\n",
        "\n",
        "model.compile(keras.optimizers.Adam(lr=0.0001),loss=\"categorical_crossentropy\", metrics=[\"accuracy\"])"
      ],
      "execution_count": 60,
      "outputs": []
    },
    {
      "cell_type": "code",
      "metadata": {
        "colab": {
          "base_uri": "https://localhost:8080/"
        },
        "id": "G-XGCM5UAAwt",
        "outputId": "6f52a490-ceda-4139-ea7a-5ecb2073ac9f"
      },
      "source": [
        "STEP_SIZE_TRAIN=train_ds.n//train_ds.batch_size\n",
        "STEP_SIZE_VALID=valid_ds.n//valid_ds.batch_size\n",
        "model.fit_generator(generator=train_ds,\n",
        "                    steps_per_epoch=STEP_SIZE_TRAIN,\n",
        "                    validation_data=valid_ds,\n",
        "                    validation_steps=STEP_SIZE_VALID,\n",
        "                    epochs=15)"
      ],
      "execution_count": 62,
      "outputs": [
        {
          "output_type": "stream",
          "text": [
            "/usr/local/lib/python3.7/dist-packages/tensorflow/python/keras/engine/training.py:1844: UserWarning: `Model.fit_generator` is deprecated and will be removed in a future version. Please use `Model.fit`, which supports generators.\n",
            "  warnings.warn('`Model.fit_generator` is deprecated and '\n"
          ],
          "name": "stderr"
        },
        {
          "output_type": "stream",
          "text": [
            "Epoch 1/15\n",
            "20/20 [==============================] - 14s 673ms/step - loss: 1.0133 - accuracy: 0.5489 - val_loss: 1.1274 - val_accuracy: 0.5250\n",
            "Epoch 2/15\n",
            "20/20 [==============================] - 13s 651ms/step - loss: 1.0455 - accuracy: 0.5668 - val_loss: 1.1172 - val_accuracy: 0.5250\n",
            "Epoch 3/15\n",
            "20/20 [==============================] - 13s 666ms/step - loss: 1.0763 - accuracy: 0.5163 - val_loss: 1.0962 - val_accuracy: 0.5312\n",
            "Epoch 4/15\n",
            "20/20 [==============================] - 13s 673ms/step - loss: 1.0428 - accuracy: 0.5212 - val_loss: 1.0852 - val_accuracy: 0.5562\n",
            "Epoch 5/15\n",
            "20/20 [==============================] - 13s 655ms/step - loss: 1.0084 - accuracy: 0.5309 - val_loss: 1.0850 - val_accuracy: 0.5437\n",
            "Epoch 6/15\n",
            "20/20 [==============================] - 13s 649ms/step - loss: 1.0024 - accuracy: 0.5505 - val_loss: 1.0537 - val_accuracy: 0.5562\n",
            "Epoch 7/15\n",
            "20/20 [==============================] - 13s 650ms/step - loss: 0.9955 - accuracy: 0.5814 - val_loss: 1.0494 - val_accuracy: 0.5312\n",
            "Epoch 8/15\n",
            "20/20 [==============================] - 13s 648ms/step - loss: 1.0368 - accuracy: 0.5472 - val_loss: 1.0377 - val_accuracy: 0.5875\n",
            "Epoch 9/15\n",
            "20/20 [==============================] - 13s 647ms/step - loss: 0.9888 - accuracy: 0.5619 - val_loss: 1.0245 - val_accuracy: 0.5750\n",
            "Epoch 10/15\n",
            "20/20 [==============================] - 13s 649ms/step - loss: 1.0172 - accuracy: 0.5733 - val_loss: 1.0239 - val_accuracy: 0.5813\n",
            "Epoch 11/15\n",
            "20/20 [==============================] - 13s 646ms/step - loss: 1.0178 - accuracy: 0.5326 - val_loss: 1.0270 - val_accuracy: 0.5250\n",
            "Epoch 12/15\n",
            "20/20 [==============================] - 13s 650ms/step - loss: 1.0080 - accuracy: 0.5749 - val_loss: 1.0207 - val_accuracy: 0.5750\n",
            "Epoch 13/15\n",
            "20/20 [==============================] - 13s 648ms/step - loss: 1.0396 - accuracy: 0.5375 - val_loss: 1.0257 - val_accuracy: 0.5750\n",
            "Epoch 14/15\n",
            "20/20 [==============================] - 13s 648ms/step - loss: 1.0097 - accuracy: 0.5635 - val_loss: 0.9801 - val_accuracy: 0.6187\n",
            "Epoch 15/15\n",
            "20/20 [==============================] - 13s 649ms/step - loss: 1.0025 - accuracy: 0.5554 - val_loss: 0.9948 - val_accuracy: 0.5437\n"
          ],
          "name": "stdout"
        },
        {
          "output_type": "execute_result",
          "data": {
            "text/plain": [
              "<tensorflow.python.keras.callbacks.History at 0x7f25dbeeee10>"
            ]
          },
          "metadata": {
            "tags": []
          },
          "execution_count": 62
        }
      ]
    },
    {
      "cell_type": "code",
      "metadata": {
        "id": "sQSAxzXTBDMN"
      },
      "source": [
        ""
      ],
      "execution_count": 35,
      "outputs": []
    }
  ]
}