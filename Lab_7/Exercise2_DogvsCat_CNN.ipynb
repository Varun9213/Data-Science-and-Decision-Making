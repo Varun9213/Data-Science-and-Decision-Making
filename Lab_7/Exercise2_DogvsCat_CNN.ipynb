{
  "nbformat": 4,
  "nbformat_minor": 0,
  "metadata": {
    "colab": {
      "name": "Exercise2_DogvsCat_CNN.ipynb",
      "provenance": [],
      "toc_visible": true,
      "include_colab_link": true
    },
    "kernelspec": {
      "name": "python3",
      "display_name": "Python 3"
    },
    "accelerator": "GPU"
  },
  "cells": [
    {
      "cell_type": "markdown",
      "metadata": {
        "id": "view-in-github",
        "colab_type": "text"
      },
      "source": [
        "<a href=\"https://colab.research.google.com/github/Varun9213/Data-Science-and-Decision-Making/blob/main/Exercise2_DogvsCat_CNN.ipynb\" target=\"_parent\"><img src=\"https://colab.research.google.com/assets/colab-badge.svg\" alt=\"Open In Colab\"/></a>"
      ]
    },
    {
      "cell_type": "markdown",
      "metadata": {
        "id": "qTh9DiKVslsJ"
      },
      "source": [
        "## Dogs vs. Cats \n",
        "\n",
        "In this competition, you'll write an algorithm to classify whether images contain either a dog or a cat.  This is easy for humans, dogs, and cats. Your computer will find it a bit more difficult.\n",
        "\n",
        "![alt text](https://miro.medium.com/max/3000/1*bhFifratH9DjKqMBTeQG5A.gif)\n",
        "\n",
        "Ref: https://medium.com/@thegrigorian/rolling-in-the-deep-cnn-c8d3f7108c8c"
      ]
    },
    {
      "cell_type": "markdown",
      "metadata": {
        "id": "RSBI-_mSSY1g"
      },
      "source": [
        "Get your API Key from Kaggle using following steps:\n",
        "1. Login to [Kaggle](https://www.kaggle.com/) or Register if you don't have account\n",
        "2. Open Dataset (https://www.kaggle.com/c/dogs-vs-cats/rules) and accept terms and condition. \n",
        "3. On the top right corner click on your Icon and go to accounts and press a button \"Create New API Token\". It will download a JSON file containing your username and key. \n",
        "4. Now, paste both below. \n"
      ]
    },
    {
      "cell_type": "code",
      "metadata": {
        "id": "zT8_I0dq70Mg"
      },
      "source": [
        "import json"
      ],
      "execution_count": 47,
      "outputs": []
    },
    {
      "cell_type": "code",
      "metadata": {
        "colab": {
          "base_uri": "https://localhost:8080/"
        },
        "id": "bio49iQF70HZ",
        "outputId": "cbeafd09-3f83-4b0b-d9f0-0c76dcc77a2d"
      },
      "source": [
        "with open(\"/content/kaggle.json\", 'r') as file:\n",
        "  print(json.load(file))"
      ],
      "execution_count": 48,
      "outputs": [
        {
          "output_type": "stream",
          "text": [
            "{'username': 'varundutt9213', 'key': '5921055f306ce9caa51407eed429391b'}\n"
          ],
          "name": "stdout"
        }
      ]
    },
    {
      "cell_type": "code",
      "metadata": {
        "id": "YmXSOc0tZIGA",
        "colab": {
          "base_uri": "https://localhost:8080/"
        },
        "outputId": "78ed8c1d-7e91-4a9b-e12a-89949cbe1a3c"
      },
      "source": [
        "import os\n",
        "os.environ['KAGGLE_USERNAME'] = \"varundutt9213\" # username from the json file\n",
        "os.environ['KAGGLE_KEY'] = \"5921055f306ce9caa51407eed429391b\" # key from the json file\n",
        "!kaggle competitions download -c dogs-vs-cats # api copied from kaggle (https://www.kaggle.com/c/dogs-vs-cats/data)"
      ],
      "execution_count": 49,
      "outputs": [
        {
          "output_type": "stream",
          "text": [
            "Warning: Looks like you're using an outdated API Version, please consider updating (server 1.5.12 / client 1.5.4)\n",
            "sampleSubmission.csv: Skipping, found more recently modified local copy (use --force to force download)\n",
            "test1.zip: Skipping, found more recently modified local copy (use --force to force download)\n",
            "train.zip: Skipping, found more recently modified local copy (use --force to force download)\n"
          ],
          "name": "stdout"
        }
      ]
    },
    {
      "cell_type": "code",
      "metadata": {
        "id": "PiwIL8d1n7eS",
        "colab": {
          "base_uri": "https://localhost:8080/"
        },
        "outputId": "a75be675-182c-4f8c-d7df-3a00f846ef08"
      },
      "source": [
        "# Unzip training data\n",
        "from zipfile import ZipFile\n",
        "file_name = \"/content/train.zip\"\n",
        "with ZipFile(file_name, 'r') as zip:\n",
        "  zip.extractall()\n",
        "  print('done')"
      ],
      "execution_count": 50,
      "outputs": [
        {
          "output_type": "stream",
          "text": [
            "done\n"
          ],
          "name": "stdout"
        }
      ]
    },
    {
      "cell_type": "code",
      "metadata": {
        "id": "sa2Bj5i7pPKV",
        "colab": {
          "base_uri": "https://localhost:8080/"
        },
        "outputId": "8051a73e-26e5-4495-87ef-4d0ddb35546c"
      },
      "source": [
        "# Get all the paths\n",
        "data_dir_list = os.listdir('/content/train')\n",
        "#print(data_dir_list)\n",
        "path, dirs, files = next(os.walk(\"/content/train\"))\n",
        "file_count = len(files)\n",
        "print(file_count)"
      ],
      "execution_count": 5,
      "outputs": [
        {
          "output_type": "stream",
          "text": [
            "25000\n"
          ],
          "name": "stdout"
        }
      ]
    },
    {
      "cell_type": "code",
      "metadata": {
        "id": "0ERlHkfHqpK8"
      },
      "source": [
        "# Make new base directory\n",
        "original_dataset_dir = '/content/train'\n",
        "base_dir = '/content/cats_and_dogs_small'\n",
        "os.mkdir(base_dir)"
      ],
      "execution_count": 6,
      "outputs": []
    },
    {
      "cell_type": "code",
      "metadata": {
        "id": "AANB1UJ6rQhM"
      },
      "source": [
        "train_dir = os.path.join(base_dir, 'train')\n",
        "os.mkdir(train_dir)\n",
        "\n",
        "validation_dir = os.path.join(base_dir, 'validation')\n",
        "os.mkdir(validation_dir)\n",
        "\n",
        "test_dir = os.path.join(base_dir, 'test')\n",
        "os.mkdir(test_dir)\n",
        "\n",
        "train_cats_dir = os.path.join(train_dir, 'cats')\n",
        "os.mkdir(train_cats_dir)\n",
        "\n",
        "train_dogs_dir = os.path.join(train_dir, 'dogs')\n",
        "os.mkdir(train_dogs_dir)\n",
        "\n",
        "validation_cats_dir = os.path.join(validation_dir, 'cats')\n",
        "os.mkdir(validation_cats_dir)\n",
        "\n",
        "validation_dogs_dir = os.path.join(validation_dir, 'dogs')\n",
        "os.mkdir(validation_dogs_dir)\n",
        "\n",
        "test_cats_dir = os.path.join(test_dir, 'cats')\n",
        "os.mkdir(test_cats_dir)\n",
        "\n",
        "test_dogs_dir = os.path.join(test_dir, 'dogs')\n",
        "os.mkdir(test_dogs_dir)"
      ],
      "execution_count": 7,
      "outputs": []
    },
    {
      "cell_type": "code",
      "metadata": {
        "id": "ULRgL9s9rV8T"
      },
      "source": [
        "import shutil\n",
        "fnames = ['cat.{}.jpg'.format(i) for i in range(1000)]\n",
        "for fname in fnames:\n",
        "    src = os.path.join(original_dataset_dir, fname)\n",
        "    dst = os.path.join(train_cats_dir, fname)\n",
        "    #print(src,dst)\n",
        "    shutil.copyfile(src, dst)\n",
        "    \n",
        "fnames = ['cat.{}.jpg'.format(i) for i in range(1000, 1500)]\n",
        "for fname in fnames:\n",
        "    src = os.path.join(original_dataset_dir, fname)\n",
        "    dst = os.path.join(validation_cats_dir, fname)\n",
        "    shutil.copyfile(src, dst)\n",
        "\n",
        "fnames = ['cat.{}.jpg'.format(i) for i in range(1500, 2000)]\n",
        "for fname in fnames:\n",
        "    src = os.path.join(original_dataset_dir, fname)\n",
        "    dst = os.path.join(test_cats_dir, fname)\n",
        "    shutil.copyfile(src, dst)\n",
        "    \n",
        "fnames = ['dog.{}.jpg'.format(i) for i in range(1000)]\n",
        "for fname in fnames:\n",
        "    src = os.path.join(original_dataset_dir, fname)\n",
        "    dst = os.path.join(train_dogs_dir, fname)\n",
        "    shutil.copyfile(src, dst)\n",
        "\n",
        "fnames = ['dog.{}.jpg'.format(i) for i in range(1000, 1500)]\n",
        "for fname in fnames:\n",
        "    src = os.path.join(original_dataset_dir, fname)\n",
        "    dst = os.path.join(validation_dogs_dir, fname)\n",
        "    shutil.copyfile(src, dst)\n",
        "\n",
        "fnames = ['dog.{}.jpg'.format(i) for i in range(1500, 2000)]\n",
        "for fname in fnames:\n",
        "    src = os.path.join(original_dataset_dir, fname)\n",
        "    dst = os.path.join(test_dogs_dir, fname)\n",
        "    shutil.copyfile(src, dst)"
      ],
      "execution_count": 8,
      "outputs": []
    },
    {
      "cell_type": "code",
      "metadata": {
        "id": "ul3XAbIyr7vC",
        "colab": {
          "base_uri": "https://localhost:8080/"
        },
        "outputId": "6e27bb16-88dc-47b7-a405-99ae737a534c"
      },
      "source": [
        "print('total training cat images:', len(os.listdir(train_cats_dir)))\n",
        "print('total training dog images:', len(os.listdir(train_dogs_dir)))\n",
        "print('total validation cat images:', len(os.listdir(validation_cats_dir)))\n",
        "\n",
        "print('total validation dog images:', len(os.listdir(validation_dogs_dir)))\n",
        "print('total test cat images:', len(os.listdir(test_cats_dir)))\n",
        "print('total test dog images:', len(os.listdir(test_dogs_dir)))"
      ],
      "execution_count": 9,
      "outputs": [
        {
          "output_type": "stream",
          "text": [
            "total training cat images: 1000\n",
            "total training dog images: 1000\n",
            "total validation cat images: 500\n",
            "total validation dog images: 500\n",
            "total test cat images: 500\n",
            "total test dog images: 500\n"
          ],
          "name": "stdout"
        }
      ]
    },
    {
      "cell_type": "code",
      "metadata": {
        "id": "o9yTA21_r-ma",
        "colab": {
          "base_uri": "https://localhost:8080/"
        },
        "outputId": "06182c3d-037d-470b-a759-70bf47c005b5"
      },
      "source": [
        "from keras import layers\n",
        "from keras import models\n",
        "import keras\n",
        "\n",
        "model = models.Sequential()\n",
        "model.add(layers.Conv2D(32, (3, 3), activation='relu', input_shape=(150, 150, 3)))\n",
        "model.add(layers.MaxPooling2D((2, 2)))\n",
        "model.add(layers.Conv2D(64, (3, 3), activation='relu'))\n",
        "model.add(layers.MaxPooling2D((2, 2)))\n",
        "model.add(layers.Conv2D(128, (3, 3), activation='relu'))\n",
        "model.add(layers.MaxPooling2D((2, 2)))\n",
        "model.add(layers.Conv2D(128, (3, 3), activation='relu'))\n",
        "model.add(layers.MaxPooling2D((2, 2)))\n",
        "model.add(layers.Flatten())\n",
        "model.add(layers.Dense(512, activation='relu'))\n",
        "model.add(layers.Dense(1, activation='sigmoid'))\n",
        "model.summary()"
      ],
      "execution_count": 25,
      "outputs": [
        {
          "output_type": "stream",
          "text": [
            "Model: \"sequential_3\"\n",
            "_________________________________________________________________\n",
            "Layer (type)                 Output Shape              Param #   \n",
            "=================================================================\n",
            "conv2d_12 (Conv2D)           (None, 148, 148, 32)      896       \n",
            "_________________________________________________________________\n",
            "max_pooling2d_12 (MaxPooling (None, 74, 74, 32)        0         \n",
            "_________________________________________________________________\n",
            "conv2d_13 (Conv2D)           (None, 72, 72, 64)        18496     \n",
            "_________________________________________________________________\n",
            "max_pooling2d_13 (MaxPooling (None, 36, 36, 64)        0         \n",
            "_________________________________________________________________\n",
            "conv2d_14 (Conv2D)           (None, 34, 34, 128)       73856     \n",
            "_________________________________________________________________\n",
            "max_pooling2d_14 (MaxPooling (None, 17, 17, 128)       0         \n",
            "_________________________________________________________________\n",
            "conv2d_15 (Conv2D)           (None, 15, 15, 128)       147584    \n",
            "_________________________________________________________________\n",
            "max_pooling2d_15 (MaxPooling (None, 7, 7, 128)         0         \n",
            "_________________________________________________________________\n",
            "flatten_3 (Flatten)          (None, 6272)              0         \n",
            "_________________________________________________________________\n",
            "dense_6 (Dense)              (None, 512)               3211776   \n",
            "_________________________________________________________________\n",
            "dense_7 (Dense)              (None, 1)                 513       \n",
            "=================================================================\n",
            "Total params: 3,453,121\n",
            "Trainable params: 3,453,121\n",
            "Non-trainable params: 0\n",
            "_________________________________________________________________\n"
          ],
          "name": "stdout"
        }
      ]
    },
    {
      "cell_type": "code",
      "metadata": {
        "id": "2mG8wekxsBVS"
      },
      "source": [
        "from keras import optimizers\n",
        "model.compile(loss='binary_crossentropy', \n",
        "              optimizer=optimizers.RMSprop(lr=1e-4),\n",
        "              metrics=['acc'])"
      ],
      "execution_count": 11,
      "outputs": []
    },
    {
      "cell_type": "markdown",
      "metadata": {
        "id": "7zS4Klm8qWp6"
      },
      "source": [
        "## Using ImageDataGenerator to read images from directories\n",
        "As you know by now, data should be formatted into appropriately preprocessed floatingpoint tensors before being fed into the network. Currently, the data sits on a drive as JPEG files, so the steps for getting it into the network are roughly as follows:\n",
        "\n",
        "* Read the picture files.\n",
        "* Decode the JPEG content to RGB grids of pixels.\n",
        "* Convert these into floating-point tensors.\n",
        "* Rescale the pixel values (between 0 and 255) to the [0, 1] interval (as you know, neural networks prefer to deal with small input values).\n",
        "\n",
        "It may seem a bit daunting, but fortunately Keras has utilities to take care of these steps automatically. Keras has a module with image-processing helper tools, located at keras.preprocessing.image. In particular, it contains the class ImageDataGenerator,which lets you quickly set up Python generators that can automatically turn image files on disk into batches of preprocessed tensors."
      ]
    },
    {
      "cell_type": "code",
      "metadata": {
        "id": "XJ7XU7t9sEh6",
        "colab": {
          "base_uri": "https://localhost:8080/"
        },
        "outputId": "1ce2ef70-cbc0-416c-c870-5f2e0b9f89db"
      },
      "source": [
        "from keras.preprocessing.image import ImageDataGenerator\n",
        "\n",
        "train_datagen = ImageDataGenerator(rescale=1./255)\n",
        "test_datagen = ImageDataGenerator(rescale=1./255)\n",
        "\n",
        "train_generator = train_datagen.flow_from_directory(train_dir,\n",
        "                                                    target_size=(150, 150), \n",
        "                                                    batch_size=20,\n",
        "                                                    class_mode='binary')\n",
        "\n",
        "validation_generator = test_datagen.flow_from_directory(validation_dir,\n",
        "                                                        target_size=(150, 150),\n",
        "                                                        batch_size=20,\n",
        "                                                        class_mode='binary')"
      ],
      "execution_count": 12,
      "outputs": [
        {
          "output_type": "stream",
          "text": [
            "Found 2000 images belonging to 2 classes.\n",
            "Found 1000 images belonging to 2 classes.\n"
          ],
          "name": "stdout"
        }
      ]
    },
    {
      "cell_type": "markdown",
      "metadata": {
        "id": "SEgLywySqm4u"
      },
      "source": [
        "Let’s fit the model to the data using the generator. You do so using the fit_generator method, the equivalent of fit for data generators like this one. It expects as its first argument a Python generator that will yield batches of inputs and targets indefinitely,like this one does. Because the data is being generated endlessly, the Keras model needs to know how many samples to draw from the generator before declaring anepoch over. This is the role of the `steps_per_epoch` argument: after having drawn `steps_per_epoch` batches from the generator—that is, after having run for `steps_per_epoch` gradient descent steps—the fitting process will go to the next epoch. In this case, batches are 20 samples, so it will take 100 batches until you see your target of 2,000 samples.\n",
        "\n",
        "When using fit_generator, you can pass a validation_data argument, much as with the fit method. It’s important to note that this argument is allowed to be a data generator, but it could also be a tuple of Numpy arrays. If you pass a generator as validation_data, then this generator is expected to yield batches of validation data endlessly; thus you should also specify the validation_steps argument, which tells the process how many batches to draw from the validation generator for evaluation."
      ]
    },
    {
      "cell_type": "code",
      "metadata": {
        "id": "yMyfPphJsJG6",
        "colab": {
          "base_uri": "https://localhost:8080/"
        },
        "outputId": "5b2f6d9a-0ae2-4725-d3be-267babf6bc41"
      },
      "source": [
        "history = model.fit_generator(train_generator,\n",
        "                              steps_per_epoch=100,\n",
        "                              epochs=30,\n",
        "                              validation_data=validation_generator,\n",
        "                              validation_steps=10)"
      ],
      "execution_count": 13,
      "outputs": [
        {
          "output_type": "stream",
          "text": [
            "/usr/local/lib/python3.7/dist-packages/tensorflow/python/keras/engine/training.py:1844: UserWarning: `Model.fit_generator` is deprecated and will be removed in a future version. Please use `Model.fit`, which supports generators.\n",
            "  warnings.warn('`Model.fit_generator` is deprecated and '\n"
          ],
          "name": "stderr"
        },
        {
          "output_type": "stream",
          "text": [
            "Epoch 1/30\n",
            "100/100 [==============================] - 40s 68ms/step - loss: 0.6891 - acc: 0.5243 - val_loss: 0.6804 - val_acc: 0.5250\n",
            "Epoch 2/30\n",
            "100/100 [==============================] - 7s 66ms/step - loss: 0.6636 - acc: 0.6021 - val_loss: 0.6301 - val_acc: 0.6150\n",
            "Epoch 3/30\n",
            "100/100 [==============================] - 7s 67ms/step - loss: 0.6356 - acc: 0.6228 - val_loss: 0.6149 - val_acc: 0.6550\n",
            "Epoch 4/30\n",
            "100/100 [==============================] - 7s 66ms/step - loss: 0.5831 - acc: 0.6955 - val_loss: 0.6569 - val_acc: 0.6400\n",
            "Epoch 5/30\n",
            "100/100 [==============================] - 7s 66ms/step - loss: 0.5347 - acc: 0.7227 - val_loss: 0.5449 - val_acc: 0.7150\n",
            "Epoch 6/30\n",
            "100/100 [==============================] - 7s 66ms/step - loss: 0.5222 - acc: 0.7350 - val_loss: 0.6178 - val_acc: 0.6700\n",
            "Epoch 7/30\n",
            "100/100 [==============================] - 7s 68ms/step - loss: 0.4912 - acc: 0.7583 - val_loss: 0.6093 - val_acc: 0.6850\n",
            "Epoch 8/30\n",
            "100/100 [==============================] - 7s 66ms/step - loss: 0.4814 - acc: 0.7749 - val_loss: 0.5415 - val_acc: 0.7200\n",
            "Epoch 9/30\n",
            "100/100 [==============================] - 7s 66ms/step - loss: 0.4281 - acc: 0.8031 - val_loss: 0.5436 - val_acc: 0.7450\n",
            "Epoch 10/30\n",
            "100/100 [==============================] - 7s 66ms/step - loss: 0.4148 - acc: 0.8188 - val_loss: 0.5963 - val_acc: 0.7100\n",
            "Epoch 11/30\n",
            "100/100 [==============================] - 7s 65ms/step - loss: 0.3971 - acc: 0.8192 - val_loss: 0.6184 - val_acc: 0.6850\n",
            "Epoch 12/30\n",
            "100/100 [==============================] - 7s 67ms/step - loss: 0.3489 - acc: 0.8546 - val_loss: 0.5518 - val_acc: 0.7350\n",
            "Epoch 13/30\n",
            "100/100 [==============================] - 7s 67ms/step - loss: 0.3418 - acc: 0.8489 - val_loss: 0.5165 - val_acc: 0.7600\n",
            "Epoch 14/30\n",
            "100/100 [==============================] - 7s 66ms/step - loss: 0.2953 - acc: 0.8832 - val_loss: 0.6098 - val_acc: 0.7100\n",
            "Epoch 15/30\n",
            "100/100 [==============================] - 7s 65ms/step - loss: 0.2688 - acc: 0.8925 - val_loss: 0.6050 - val_acc: 0.6800\n",
            "Epoch 16/30\n",
            "100/100 [==============================] - 7s 66ms/step - loss: 0.2685 - acc: 0.9039 - val_loss: 0.6267 - val_acc: 0.7850\n",
            "Epoch 17/30\n",
            "100/100 [==============================] - 7s 66ms/step - loss: 0.2508 - acc: 0.8984 - val_loss: 0.5729 - val_acc: 0.7250\n",
            "Epoch 18/30\n",
            "100/100 [==============================] - 7s 66ms/step - loss: 0.2395 - acc: 0.9076 - val_loss: 0.5971 - val_acc: 0.7500\n",
            "Epoch 19/30\n",
            "100/100 [==============================] - 7s 67ms/step - loss: 0.2005 - acc: 0.9152 - val_loss: 0.7812 - val_acc: 0.6750\n",
            "Epoch 20/30\n",
            "100/100 [==============================] - 7s 65ms/step - loss: 0.1820 - acc: 0.9316 - val_loss: 0.7279 - val_acc: 0.7050\n",
            "Epoch 21/30\n",
            "100/100 [==============================] - 7s 67ms/step - loss: 0.1541 - acc: 0.9514 - val_loss: 0.6205 - val_acc: 0.7350\n",
            "Epoch 22/30\n",
            "100/100 [==============================] - 7s 66ms/step - loss: 0.1411 - acc: 0.9548 - val_loss: 0.7258 - val_acc: 0.7250\n",
            "Epoch 23/30\n",
            "100/100 [==============================] - 6s 65ms/step - loss: 0.1314 - acc: 0.9562 - val_loss: 0.6664 - val_acc: 0.7500\n",
            "Epoch 24/30\n",
            "100/100 [==============================] - 7s 68ms/step - loss: 0.1061 - acc: 0.9759 - val_loss: 0.7126 - val_acc: 0.7350\n",
            "Epoch 25/30\n",
            "100/100 [==============================] - 7s 67ms/step - loss: 0.0982 - acc: 0.9741 - val_loss: 0.8240 - val_acc: 0.7450\n",
            "Epoch 26/30\n",
            "100/100 [==============================] - 7s 65ms/step - loss: 0.0837 - acc: 0.9761 - val_loss: 0.8673 - val_acc: 0.7150\n",
            "Epoch 27/30\n",
            "100/100 [==============================] - 7s 66ms/step - loss: 0.0786 - acc: 0.9811 - val_loss: 0.8136 - val_acc: 0.7150\n",
            "Epoch 28/30\n",
            "100/100 [==============================] - 7s 65ms/step - loss: 0.0638 - acc: 0.9818 - val_loss: 0.9174 - val_acc: 0.7500\n",
            "Epoch 29/30\n",
            "100/100 [==============================] - 7s 66ms/step - loss: 0.0531 - acc: 0.9865 - val_loss: 0.8195 - val_acc: 0.7750\n",
            "Epoch 30/30\n",
            "100/100 [==============================] - 7s 66ms/step - loss: 0.0419 - acc: 0.9888 - val_loss: 0.7365 - val_acc: 0.7900\n"
          ],
          "name": "stdout"
        }
      ]
    },
    {
      "cell_type": "code",
      "metadata": {
        "id": "MZaZ2HWZsNUi",
        "colab": {
          "base_uri": "https://localhost:8080/",
          "height": 545
        },
        "outputId": "1f164bc4-f386-43a0-fd54-b0c8aac13e37"
      },
      "source": [
        "model.save('cats_and_dogs_small_1.h5')\n",
        "\n",
        "import matplotlib.pyplot as plt\n",
        "\n",
        "acc = history.history['acc']\n",
        "val_acc = history.history['val_acc']\n",
        "loss = history.history['loss']\n",
        "val_loss = history.history['val_loss']\n",
        "\n",
        "epochs = range(1, len(acc) + 1)\n",
        "\n",
        "plt.plot(epochs, acc, 'bo', label='Training acc')\n",
        "plt.plot(epochs, val_acc, 'b', label='Validation acc')\n",
        "plt.title('Training and validation accuracy')\n",
        "plt.legend()\n",
        "\n",
        "plt.figure()\n",
        "\n",
        "plt.plot(epochs, loss, 'bo', label='Training loss')\n",
        "plt.plot(epochs, val_loss, 'b', label='Validation loss')\n",
        "plt.title('Training and validation loss')\n",
        "plt.legend()\n",
        "\n",
        "plt.show()"
      ],
      "execution_count": 14,
      "outputs": [
        {
          "output_type": "display_data",
          "data": {
            "image/png": "[encoded data removed]",
            "text/plain": [
              "<Figure size 432x288 with 1 Axes>"
            ]
          },
          "metadata": {
            "tags": [],
            "needs_background": "light"
          }
        },
        {
          "output_type": "display_data",
          "data": {
            "image/png": "[encoded data removed]",
            "text/plain": [
              "<Figure size 432x288 with 1 Axes>"
            ]
          },
          "metadata": {
            "tags": [],
            "needs_background": "light"
          }
        }
      ]
    },
    {
      "cell_type": "markdown",
      "metadata": {
        "id": "XKZmXmBcq_8-"
      },
      "source": [
        "## Convolutional Networks with Dropout\n",
        "\n",
        "![alt text](https://camo.githubusercontent.com/ee6fa1073247cd2c3d241300caf110d7a7541bc5/68747470733a2f2f63646e2d696d616765732d312e6d656469756d2e636f6d2f6d61782f3830302f312a4972644a355067684439596f4f7956415137334d4a772e676966)\n",
        "\n",
        "Ref: https://github.com/mneha4/Training-Neural-Nets---Guidelines"
      ]
    },
    {
      "cell_type": "code",
      "metadata": {
        "id": "wu3cqeYQrDeN"
      },
      "source": [
        "model = models.Sequential()\n",
        "model.add(layers.Conv2D(32, (3, 3), activation='relu',\n",
        "input_shape=(150, 150, 3)))\n",
        "model.add(layers.MaxPooling2D((2, 2)))\n",
        "model.add(layers.Conv2D(64, (3, 3), activation='relu'))\n",
        "model.add(layers.MaxPooling2D((2, 2)))\n",
        "model.add(layers.Conv2D(128, (3, 3), activation='relu'))\n",
        "model.add(layers.MaxPooling2D((2, 2)))\n",
        "model.add(layers.Conv2D(128, (3, 3), activation='relu'))\n",
        "model.add(layers.MaxPooling2D((2, 2)))\n",
        "model.add(layers.Flatten())\n",
        "model.add(layers.Dropout(0.5))\n",
        "model.add(layers.Dense(512, activation='relu'))\n",
        "model.add(layers.Dense(1, activation='sigmoid'))\n",
        "\n",
        "model.compile(loss='binary_crossentropy',\n",
        "              optimizer=optimizers.RMSprop(lr=1e-4),\n",
        "              metrics=['acc'])"
      ],
      "execution_count": 15,
      "outputs": []
    },
    {
      "cell_type": "code",
      "metadata": {
        "id": "QSeLpvY0rH7F",
        "colab": {
          "base_uri": "https://localhost:8080/"
        },
        "outputId": "56baf9d9-93e0-495b-e89c-58ad0fc35eb8"
      },
      "source": [
        "\n",
        "train_datagen = ImageDataGenerator(rescale=1./255,\n",
        "                                   rotation_range=40,\n",
        "                                   width_shift_range=0.2,\n",
        "                                   height_shift_range=0.2,\n",
        "                                   shear_range=0.2,\n",
        "                                   zoom_range=0.2,\n",
        "                                   horizontal_flip=True,)\n",
        "\n",
        "test_datagen = ImageDataGenerator(rescale=1./255)\n",
        "\n",
        "train_generator = train_datagen.flow_from_directory(train_dir,\n",
        "                                                    target_size=(150, 150),\n",
        "                                                    batch_size=32,\n",
        "                                                    class_mode='binary')\n",
        "\n",
        "validation_generator = test_datagen.flow_from_directory(validation_dir,\n",
        "                                                        target_size=(150, 150),\n",
        "                                                        batch_size=32,\n",
        "                                                        class_mode='binary')\n",
        "\n",
        "history = model.fit_generator(train_generator,\n",
        "                              steps_per_epoch=63,\n",
        "                              epochs=20,\n",
        "                              validation_data=validation_generator,\n",
        "                              validation_steps=30)"
      ],
      "execution_count": 23,
      "outputs": [
        {
          "output_type": "stream",
          "text": [
            "Found 2000 images belonging to 2 classes.\n",
            "Found 1000 images belonging to 2 classes.\n"
          ],
          "name": "stdout"
        },
        {
          "output_type": "stream",
          "text": [
            "/usr/local/lib/python3.7/dist-packages/tensorflow/python/keras/engine/training.py:1844: UserWarning: `Model.fit_generator` is deprecated and will be removed in a future version. Please use `Model.fit`, which supports generators.\n",
            "  warnings.warn('`Model.fit_generator` is deprecated and '\n"
          ],
          "name": "stderr"
        },
        {
          "output_type": "stream",
          "text": [
            "Epoch 1/20\n",
            "63/63 [==============================] - 17s 264ms/step - loss: 0.5400 - acc: 0.7255 - val_loss: 0.5237 - val_acc: 0.7417\n",
            "Epoch 2/20\n",
            "63/63 [==============================] - 17s 263ms/step - loss: 0.5474 - acc: 0.7160 - val_loss: 0.5379 - val_acc: 0.7177\n",
            "Epoch 3/20\n",
            "63/63 [==============================] - 17s 264ms/step - loss: 0.5506 - acc: 0.7235 - val_loss: 0.5206 - val_acc: 0.7344\n",
            "Epoch 4/20\n",
            "63/63 [==============================] - 16s 261ms/step - loss: 0.5373 - acc: 0.7395 - val_loss: 0.5659 - val_acc: 0.7010\n",
            "Epoch 5/20\n",
            "63/63 [==============================] - 17s 263ms/step - loss: 0.5390 - acc: 0.7220 - val_loss: 0.5166 - val_acc: 0.7323\n",
            "Epoch 6/20\n",
            "63/63 [==============================] - 17s 264ms/step - loss: 0.5462 - acc: 0.7295 - val_loss: 0.5418 - val_acc: 0.7198\n",
            "Epoch 7/20\n",
            "63/63 [==============================] - 17s 262ms/step - loss: 0.5296 - acc: 0.7315 - val_loss: 0.5595 - val_acc: 0.7156\n",
            "Epoch 8/20\n",
            "63/63 [==============================] - 17s 264ms/step - loss: 0.5334 - acc: 0.7265 - val_loss: 0.5767 - val_acc: 0.7042\n",
            "Epoch 9/20\n",
            "63/63 [==============================] - 17s 264ms/step - loss: 0.5367 - acc: 0.7230 - val_loss: 0.5276 - val_acc: 0.7323\n",
            "Epoch 10/20\n",
            "63/63 [==============================] - 17s 263ms/step - loss: 0.5454 - acc: 0.7220 - val_loss: 0.5129 - val_acc: 0.7417\n",
            "Epoch 11/20\n",
            "63/63 [==============================] - 17s 266ms/step - loss: 0.5297 - acc: 0.7330 - val_loss: 0.5014 - val_acc: 0.7510\n",
            "Epoch 12/20\n",
            "63/63 [==============================] - 16s 262ms/step - loss: 0.5316 - acc: 0.7365 - val_loss: 0.5208 - val_acc: 0.7385\n",
            "Epoch 13/20\n",
            "63/63 [==============================] - 17s 264ms/step - loss: 0.5203 - acc: 0.7405 - val_loss: 0.4957 - val_acc: 0.7458\n",
            "Epoch 14/20\n",
            "63/63 [==============================] - 17s 263ms/step - loss: 0.5210 - acc: 0.7375 - val_loss: 0.5031 - val_acc: 0.7552\n",
            "Epoch 15/20\n",
            "63/63 [==============================] - 17s 264ms/step - loss: 0.5146 - acc: 0.7410 - val_loss: 0.5031 - val_acc: 0.7375\n",
            "Epoch 16/20\n",
            "63/63 [==============================] - 17s 264ms/step - loss: 0.5094 - acc: 0.7390 - val_loss: 0.5130 - val_acc: 0.7490\n",
            "Epoch 17/20\n",
            "63/63 [==============================] - 17s 264ms/step - loss: 0.5082 - acc: 0.7540 - val_loss: 0.4881 - val_acc: 0.7531\n",
            "Epoch 18/20\n",
            "63/63 [==============================] - 17s 263ms/step - loss: 0.5240 - acc: 0.7405 - val_loss: 0.5189 - val_acc: 0.7292\n",
            "Epoch 19/20\n",
            "63/63 [==============================] - 17s 267ms/step - loss: 0.5076 - acc: 0.7485 - val_loss: 0.4928 - val_acc: 0.7583\n",
            "Epoch 20/20\n",
            "63/63 [==============================] - 17s 266ms/step - loss: 0.4959 - acc: 0.7560 - val_loss: 0.4858 - val_acc: 0.7646\n"
          ],
          "name": "stdout"
        }
      ]
    },
    {
      "cell_type": "markdown",
      "metadata": {
        "id": "BRdU5yrkUF_b"
      },
      "source": [
        "# Task 2:\n",
        "\n",
        "We have used Dropout to enhance the performance of the CNN model. Can you please use whatever you like to further enhance the performance from `val_acc: 0.7506`? "
      ]
    },
    {
      "cell_type": "code",
      "metadata": {
        "colab": {
          "base_uri": "https://localhost:8080/"
        },
        "id": "n-zoduWm9qos",
        "outputId": "3a146164-2381-409d-8466-ab20e93ace00"
      },
      "source": [
        "model = models.Sequential()\n",
        "model.add(layers.Conv2D(32, (3, 3), activation='relu',\n",
        "input_shape=(150, 150, 3)))\n",
        "model.add(layers.BatchNormalization())\n",
        "model.add(layers.Conv2D(32, (3, 3), activation='relu'))\n",
        "model.add(layers.MaxPooling2D((2, 2)))\n",
        "model.add(layers.BatchNormalization())\n",
        "model.add(layers.Conv2D(64, (3, 3), activation='relu'))\n",
        "model.add(layers.BatchNormalization())\n",
        "model.add(layers.Conv2D(64, (3, 3), activation='relu'))\n",
        "model.add(layers.MaxPooling2D((2, 2)))\n",
        "model.add(layers.BatchNormalization())\n",
        "model.add(layers.Conv2D(128, (3, 3), activation='relu'))\n",
        "model.add(layers.MaxPooling2D((2, 2)))\n",
        "model.add(layers.BatchNormalization())\n",
        "model.add(layers.Conv2D(128, (3, 3), activation='relu'))\n",
        "model.add(layers.MaxPooling2D((2, 2)))\n",
        "model.add(layers.Flatten())\n",
        "model.add(layers.BatchNormalization())\n",
        "model.add(layers.Dropout(0.5))\n",
        "model.add(layers.Dense(1024, activation='relu'))\n",
        "model.add(layers.BatchNormalization())\n",
        "model.add(layers.Dropout(0.5))\n",
        "model.add(layers.Dense(512, activation='relu'))\n",
        "model.add(layers.Dense(1, activation='sigmoid'))\n",
        "\n",
        "model.compile(loss='binary_crossentropy',\n",
        "              optimizer=optimizers.Adam(learning_rate=0.0005),\n",
        "              metrics=['acc'])\n",
        "\n",
        "model.summary()"
      ],
      "execution_count": 54,
      "outputs": [
        {
          "output_type": "stream",
          "text": [
            "Model: \"sequential_15\"\n",
            "_________________________________________________________________\n",
            "Layer (type)                 Output Shape              Param #   \n",
            "=================================================================\n",
            "conv2d_90 (Conv2D)           (None, 148, 148, 32)      896       \n",
            "_________________________________________________________________\n",
            "batch_normalization_86 (Batc (None, 148, 148, 32)      128       \n",
            "_________________________________________________________________\n",
            "conv2d_91 (Conv2D)           (None, 146, 146, 32)      9248      \n",
            "_________________________________________________________________\n",
            "max_pooling2d_81 (MaxPooling (None, 73, 73, 32)        0         \n",
            "_________________________________________________________________\n",
            "batch_normalization_87 (Batc (None, 73, 73, 32)        128       \n",
            "_________________________________________________________________\n",
            "conv2d_92 (Conv2D)           (None, 71, 71, 64)        18496     \n",
            "_________________________________________________________________\n",
            "batch_normalization_88 (Batc (None, 71, 71, 64)        256       \n",
            "_________________________________________________________________\n",
            "conv2d_93 (Conv2D)           (None, 69, 69, 64)        36928     \n",
            "_________________________________________________________________\n",
            "max_pooling2d_82 (MaxPooling (None, 34, 34, 64)        0         \n",
            "_________________________________________________________________\n",
            "batch_normalization_89 (Batc (None, 34, 34, 64)        256       \n",
            "_________________________________________________________________\n",
            "conv2d_94 (Conv2D)           (None, 32, 32, 128)       73856     \n",
            "_________________________________________________________________\n",
            "max_pooling2d_83 (MaxPooling (None, 16, 16, 128)       0         \n",
            "_________________________________________________________________\n",
            "batch_normalization_90 (Batc (None, 16, 16, 128)       512       \n",
            "_________________________________________________________________\n",
            "conv2d_95 (Conv2D)           (None, 14, 14, 128)       147584    \n",
            "_________________________________________________________________\n",
            "max_pooling2d_84 (MaxPooling (None, 7, 7, 128)         0         \n",
            "_________________________________________________________________\n",
            "flatten_16 (Flatten)         (None, 6272)              0         \n",
            "_________________________________________________________________\n",
            "batch_normalization_91 (Batc (None, 6272)              25088     \n",
            "_________________________________________________________________\n",
            "dropout_33 (Dropout)         (None, 6272)              0         \n",
            "_________________________________________________________________\n",
            "dense_42 (Dense)             (None, 1024)              6423552   \n",
            "_________________________________________________________________\n",
            "batch_normalization_92 (Batc (None, 1024)              4096      \n",
            "_________________________________________________________________\n",
            "dropout_34 (Dropout)         (None, 1024)              0         \n",
            "_________________________________________________________________\n",
            "dense_43 (Dense)             (None, 512)               524800    \n",
            "_________________________________________________________________\n",
            "dense_44 (Dense)             (None, 1)                 513       \n",
            "=================================================================\n",
            "Total params: 7,266,337\n",
            "Trainable params: 7,251,105\n",
            "Non-trainable params: 15,232\n",
            "_________________________________________________________________\n"
          ],
          "name": "stdout"
        }
      ]
    },
    {
      "cell_type": "code",
      "metadata": {
        "colab": {
          "base_uri": "https://localhost:8080/"
        },
        "id": "m84WHiZmB90m",
        "outputId": "8ca83d81-dbd6-4b50-a6ef-8ec97b6d1a5e"
      },
      "source": [
        "history = model.fit_generator(train_generator,\n",
        "                              steps_per_epoch=63,\n",
        "                              epochs=20,\n",
        "                              validation_data=validation_generator,\n",
        "                              validation_steps=30)"
      ],
      "execution_count": 56,
      "outputs": [
        {
          "output_type": "stream",
          "text": [
            "/usr/local/lib/python3.7/dist-packages/tensorflow/python/keras/engine/training.py:1844: UserWarning: `Model.fit_generator` is deprecated and will be removed in a future version. Please use `Model.fit`, which supports generators.\n",
            "  warnings.warn('`Model.fit_generator` is deprecated and '\n"
          ],
          "name": "stderr"
        },
        {
          "output_type": "stream",
          "text": [
            "Epoch 1/20\n",
            "63/63 [==============================] - 18s 285ms/step - loss: 0.4916 - acc: 0.7655 - val_loss: 0.5622 - val_acc: 0.7146\n",
            "Epoch 2/20\n",
            "63/63 [==============================] - 18s 281ms/step - loss: 0.4851 - acc: 0.7585 - val_loss: 0.4784 - val_acc: 0.7802\n",
            "Epoch 3/20\n",
            "63/63 [==============================] - 18s 281ms/step - loss: 0.4635 - acc: 0.7795 - val_loss: 0.5100 - val_acc: 0.7667\n",
            "Epoch 4/20\n",
            "63/63 [==============================] - 18s 282ms/step - loss: 0.4644 - acc: 0.7850 - val_loss: 0.4880 - val_acc: 0.7729\n",
            "Epoch 5/20\n",
            "63/63 [==============================] - 18s 283ms/step - loss: 0.4714 - acc: 0.7735 - val_loss: 0.5599 - val_acc: 0.7146\n",
            "Epoch 6/20\n",
            "63/63 [==============================] - 18s 283ms/step - loss: 0.4507 - acc: 0.7925 - val_loss: 0.4851 - val_acc: 0.7625\n",
            "Epoch 7/20\n",
            "63/63 [==============================] - 18s 284ms/step - loss: 0.4600 - acc: 0.7840 - val_loss: 0.5281 - val_acc: 0.7458\n",
            "Epoch 8/20\n",
            "63/63 [==============================] - 18s 280ms/step - loss: 0.4426 - acc: 0.7975 - val_loss: 0.4838 - val_acc: 0.7656\n",
            "Epoch 9/20\n",
            "63/63 [==============================] - 18s 282ms/step - loss: 0.4443 - acc: 0.7910 - val_loss: 0.4666 - val_acc: 0.7729\n",
            "Epoch 10/20\n",
            "63/63 [==============================] - 18s 284ms/step - loss: 0.4135 - acc: 0.8060 - val_loss: 0.4646 - val_acc: 0.7865\n",
            "Epoch 11/20\n",
            "63/63 [==============================] - 18s 284ms/step - loss: 0.4397 - acc: 0.7980 - val_loss: 0.5910 - val_acc: 0.6969\n",
            "Epoch 12/20\n",
            "63/63 [==============================] - 18s 281ms/step - loss: 0.4428 - acc: 0.7950 - val_loss: 0.4530 - val_acc: 0.7927\n",
            "Epoch 13/20\n",
            "63/63 [==============================] - 18s 281ms/step - loss: 0.4167 - acc: 0.8095 - val_loss: 0.4543 - val_acc: 0.7958\n",
            "Epoch 14/20\n",
            "63/63 [==============================] - 18s 282ms/step - loss: 0.4169 - acc: 0.8145 - val_loss: 0.5454 - val_acc: 0.7521\n",
            "Epoch 15/20\n",
            "63/63 [==============================] - 18s 282ms/step - loss: 0.4002 - acc: 0.8195 - val_loss: 0.4693 - val_acc: 0.7906\n",
            "Epoch 16/20\n",
            "63/63 [==============================] - 18s 281ms/step - loss: 0.4196 - acc: 0.8040 - val_loss: 0.4952 - val_acc: 0.7823\n",
            "Epoch 17/20\n",
            "63/63 [==============================] - 18s 281ms/step - loss: 0.3974 - acc: 0.8220 - val_loss: 0.5529 - val_acc: 0.7625\n",
            "Epoch 18/20\n",
            "63/63 [==============================] - 18s 282ms/step - loss: 0.3894 - acc: 0.8200 - val_loss: 0.5342 - val_acc: 0.7563\n",
            "Epoch 19/20\n",
            "63/63 [==============================] - 18s 283ms/step - loss: 0.4012 - acc: 0.8265 - val_loss: 0.8048 - val_acc: 0.6687\n",
            "Epoch 20/20\n",
            "63/63 [==============================] - 18s 282ms/step - loss: 0.4187 - acc: 0.8085 - val_loss: 0.4453 - val_acc: 0.7990\n"
          ],
          "name": "stdout"
        }
      ]
    },
    {
      "cell_type": "code",
      "metadata": {
        "id": "D01cBFLbCGKI"
      },
      "source": [
        ""
      ],
      "execution_count": null,
      "outputs": []
    }
  ]
}